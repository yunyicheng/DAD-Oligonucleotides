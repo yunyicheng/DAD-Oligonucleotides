{
  "cells": [
    {
      "cell_type": "markdown",
      "metadata": {
        "id": "view-in-github",
        "colab_type": "text"
      },
      "source": [
        "<a href=\"https://colab.research.google.com/github/yunyicheng/DAD-Oligonucleotides/blob/main/Data_optimized_Assembly_Design_for_Oligonucleotides.ipynb\" target=\"_parent\"><img src=\"https://colab.research.google.com/assets/colab-badge.svg\" alt=\"Open In Colab\"/></a>"
      ]
    },
    {
      "cell_type": "markdown",
      "id": "074fe83e",
      "metadata": {
        "id": "074fe83e"
      },
      "source": [
        "# 1. Introduction\n",
        "\n",
        "Deep mutational scanning uses thousands of oligonucleotides in one reaction tube, and the success of the reaction is dependent on on-target and off-target reactions. These on-target and off-target reactions have previously been characterized in details. This tool maximizes on-target reactions and minimizes off-target reactions through the use of gradient descent and other necessary rules for deep-mutational scanning. "
      ]
    },
    {
      "cell_type": "markdown",
      "id": "cc609c75",
      "metadata": {
        "id": "cc609c75"
      },
      "source": [
        "# 2. Data Processing"
      ]
    },
    {
      "cell_type": "markdown",
      "id": "321e221a",
      "metadata": {
        "id": "321e221a"
      },
      "source": [
        "## 2.1 Imports"
      ]
    },
    {
      "cell_type": "code",
      "execution_count": null,
      "id": "02d3694f",
      "metadata": {
        "id": "02d3694f"
      },
      "outputs": [],
      "source": [
        "import os\n",
        "import numpy as np\n",
        "import pandas as pd\n",
        "import matplotlib.pyplot as plt\n",
        "from Bio.Seq import Seq"
      ]
    },
    {
      "cell_type": "markdown",
      "id": "9992c410",
      "metadata": {
        "id": "9992c410"
      },
      "source": [
        "## 2.2 Process Target gene"
      ]
    },
    {
      "cell_type": "code",
      "execution_count": null,
      "id": "791dd3ad",
      "metadata": {
        "colab": {
          "base_uri": "https://localhost:8080/"
        },
        "id": "791dd3ad",
        "outputId": "26a88414-979e-4997-f8bc-a4cc877df4a3"
      },
      "outputs": [
        {
          "output_type": "stream",
          "name": "stdout",
          "text": [
            "['ATG', 'GGT', 'ATT', 'AAA', 'GGT', 'TTG', 'AAT', 'GCA', 'ATT', 'ATA', 'TCG', 'GAA', 'CAT', 'GTT', 'CCC', 'TCT', 'GCT', 'ATC', 'AGG', 'AAA', 'AGC', 'GAT', 'ATC', 'AAG', 'AGC', 'TTT', 'TTT', 'GGC', 'AGA', 'AAG', 'GTT', 'GCC', 'ATC', 'GAT', 'GCC', 'TCT', 'ATG', 'TCT', 'CTA', 'TAT', 'CAG', 'TTT', 'TTA', 'ATT', 'GCT', 'GTA', 'AGA', 'CAG', 'CAA', 'GAC', 'GGT', 'GGG', 'CAG', 'TTG', 'ACC', 'AAT', 'GAA', 'GCC', 'GGT', 'GAA', 'ACA', 'ACG', 'TCA', 'CAC', 'TTG', 'ATG', 'GGT', 'ATG', 'TTT', 'TAT', 'AGG', 'ACA', 'CTG', 'AGA', 'ATG', 'ATT', 'GAT', 'AAC', 'GGT', 'ATC', 'AAG', 'CCT', 'TGT', 'TAT', 'GTC', 'TTC', 'GAC', 'GGC', 'AAA', 'CCT', 'CCA', 'GAT', 'TTG', 'AAA', 'TCT', 'CAT', 'GAG', 'TTG', 'ACA', 'AAG', 'CGG', 'TCT', 'TCA', 'AGA', 'AGG', 'GTG', 'GAA', 'ACA', 'GAA', 'AAA', 'AAA', 'CTG', 'GCA', 'GAG', 'GCA', 'ACA', 'ACA', 'GAA', 'TTG', 'GAA', 'AAG', 'ATG', 'AAG', 'CAA', 'GAA', 'AGA', 'AGA', 'TTG', 'GTG', 'AAG', 'GTC', 'TCA', 'AAA', 'GAG', 'CAT', 'AAT', 'GAA', 'GAA', 'GCC', 'CAA', 'AAA', 'TTA', 'CTA', 'GGA', 'CTA', 'ATG', 'GGA', 'ATC', 'CCA', 'TAT', 'ATA', 'ATA', 'GCG', 'CCA', 'ACG', 'GAA', 'GCT', 'GAG', 'GCT', 'CAA', 'TGT', 'GCT', 'GAG', 'TTG', 'GCA', 'AAG', 'AAG', 'GGA', 'AAG', 'GTG', 'TAT', 'GCC', 'GCA', 'GCA', 'AGT', 'GAA', 'GAT', 'ATG', 'GAC', 'ACA', 'CTC', 'TGT', 'TAT', 'AGA', 'ACA', 'CCC', 'TTC', 'TTG', 'TTG', 'AGA', 'CAT', 'TTG', 'ACT', 'TTT', 'TCA', 'GAG', 'GCC', 'AAG', 'AAG', 'GAA', 'CCG', 'ATT', 'CAC', 'GAA', 'ATA', 'GAT', 'ACT', 'GAA', 'TTA', 'GTT', 'TTG', 'AGA', 'GGA', 'CTC', 'GAC', 'TTG', 'ACA', 'ATA', 'GAG', 'CAG', 'TTT', 'GTT', 'GAT', 'CTT', 'TGC', 'ATA', 'ATG', 'CTT', 'GGT', 'TGT', 'GAC', 'TAC', 'TGT', 'GAA', 'AGC', 'ATC', 'AGA', 'GGT', 'GTT', 'GGT', 'CCA', 'GTG', 'ACA', 'GCC', 'TTA', 'AAA', 'TTG', 'ATA', 'AAA', 'ACG', 'CAT', 'GGA', 'TCC', 'ATC', 'GAA', 'AAA', 'ATC', 'GTG', 'GAG', 'TTT', 'ATT', 'GAA', 'TCT', 'GGG', 'GAG', 'TCA', 'AAC', 'AAC', 'ACT', 'AAA', 'TGG', 'AAA', 'ATC', 'CCA', 'GAA', 'GAC', 'TGG', 'CCT', 'TAC', 'AAA', 'CAA', 'GCA', 'AGA', 'ATG', 'CTG', 'TTT', 'CTT', 'GAC', 'CCT', 'GAA', 'GTT', 'ATA', 'GAT', 'GGT', 'AAC', 'GAA', 'ATA', 'AAC', 'TTG', 'AAA', 'TGG', 'TCG', 'CCA', 'CCA', 'AAG', 'GAG', 'AAG', 'GAA', 'CTT', 'ATC', 'GAG', 'TAT', 'TTA', 'TGT', 'GAT', 'GAT', 'AAG', 'AAA', 'TTC', 'AGT', 'GAA', 'GAA', 'AGA', 'GTT', 'AAA', 'TCT', 'GGT', 'ATA', 'TCA', 'AGA', 'TTG', 'AAA', 'AAA', 'GGC', 'TTG', 'AAA', 'TCT', 'GGC', 'ATT', 'CAG', 'GGT', 'AGG', 'TTA', 'GAT', 'GGG', 'TTC', 'TTC', 'CAA', 'GTG', 'GTG', 'CCT', 'AAG', 'ACA', 'AAG', 'GAA', 'CAG', 'CTG', 'GCT', 'GCT', 'GCG', 'GCG', 'AAA', 'AGA', 'GCA', 'CAA', 'GAA', 'AAT', 'AAA', 'AAA', 'TTG', 'AAC', 'AAA', 'AAT', 'AAG', 'AAT', 'AAA', 'GTC', 'ACA', 'AAG', 'GGA', 'AGA', 'AGA', 'TGA']\n",
            "383\n"
          ]
        }
      ],
      "source": [
        "# split the gene by codons to make sure cassettes inserted at codon boundaries\n",
        "# target_gene is S.cerevisiae Rad27, could be altered for other genes of interests\n",
        "target_gene = 'ATGGGTATTAAAGGTTTGAATGCAATTATATCGGAACATGTTCCCTCTGCTATCAGGAAAAGCGATATCAAGAGCTTTTTTGGCAGAAAGGTTGCCATCGATGCCTCTATGTCTCTATATCAGTTTTTAATTGCTGTAAGACAGCAAGACGGTGGGCAGTTGACCAATGAAGCCGGTGAAACAACGTCACACTTGATGGGTATGTTTTATAGGACACTGAGAATGATTGATAACGGTATCAAGCCTTGTTATGTCTTCGACGGCAAACCTCCAGATTTGAAATCTCATGAGTTGACAAAGCGGTCTTCAAGAAGGGTGGAAACAGAAAAAAAACTGGCAGAGGCAACAACAGAATTGGAAAAGATGAAGCAAGAAAGAAGATTGGTGAAGGTCTCAAAAGAGCATAATGAAGAAGCCCAAAAATTACTAGGACTAATGGGAATCCCATATATAATAGCGCCAACGGAAGCTGAGGCTCAATGTGCTGAGTTGGCAAAGAAGGGAAAGGTGTATGCCGCAGCAAGTGAAGATATGGACACACTCTGTTATAGAACACCCTTCTTGTTGAGACATTTGACTTTTTCAGAGGCCAAGAAGGAACCGATTCACGAAATAGATACTGAATTAGTTTTGAGAGGACTCGACTTGACAATAGAGCAGTTTGTTGATCTTTGCATAATGCTTGGTTGTGACTACTGTGAAAGCATCAGAGGTGTTGGTCCAGTGACAGCCTTAAAATTGATAAAAACGCATGGATCCATCGAAAAAATCGTGGAGTTTATTGAATCTGGGGAGTCAAACAACACTAAATGGAAAATCCCAGAAGACTGGCCTTACAAACAAGCAAGAATGCTGTTTCTTGACCCTGAAGTTATAGATGGTAACGAAATAAACTTGAAATGGTCGCCACCAAAGGAGAAGGAACTTATCGAGTATTTATGTGATGATAAGAAATTCAGTGAAGAAAGAGTTAAATCTGGTATATCAAGATTGAAAAAAGGCTTGAAATCTGGCATTCAGGGTAGGTTAGATGGGTTCTTCCAAGTGGTGCCTAAGACAAAGGAACAGCTGGCTGCTGCGGCGAAAAGAGCACAAGAAAATAAAAAATTGAACAAAAATAAGAATAAAGTCACAAAGGGAAGAAGATGA'\n",
        "target_gene = [target_gene[i:i+3] for i in range(0, len(target_gene), 3)]\n",
        "print(target_gene)\n",
        "print(len(target_gene))"
      ]
    },
    {
      "cell_type": "markdown",
      "id": "81d4a656",
      "metadata": {
        "id": "81d4a656"
      },
      "source": [
        "## 2.3 Load Overhang Fidelity Chart"
      ]
    },
    {
      "cell_type": "code",
      "execution_count": null,
      "id": "6471d32e",
      "metadata": {
        "id": "6471d32e",
        "colab": {
          "base_uri": "https://localhost:8080/"
        },
        "outputId": "144d357c-3f91-4dcb-d82a-d5a979fdc56f"
      },
      "outputs": [
        {
          "output_type": "stream",
          "name": "stdout",
          "text": [
            "          AAAA  AAAC  AAAG  AAAT  AACA  AACC  AACG  AACT  AAGA  AAGC  ...  \\\n",
            "Overhang                                                              ...   \n",
            "TTTT       635     8    40    16     2     0     0     0     7     0  ...   \n",
            "GTTT         3   476     4    45     0    20     0     1     0    15  ...   \n",
            "CTTT         1     1   596     2     0     0    18     0     0     0  ...   \n",
            "ATTT         8     4     1   642     0     0     0     6     0     1  ...   \n",
            "TGTT         0     0     0     0   493    16    64    56     2     0  ...   \n",
            "...        ...   ...   ...   ...   ...   ...   ...   ...   ...   ...  ...   \n",
            "ACAA         0     0     0     0     0     0     0     0     0     0  ...   \n",
            "TAAA         0     0     0     0     0     0     0     0     0     0  ...   \n",
            "GAAA         0     0     0     0     0     0     0     0     0     0  ...   \n",
            "CAAA         0     0     0     0     0     0     0     0     0     0  ...   \n",
            "AAAA         0     0     0     0     0     0     0     0     0     0  ...   \n",
            "\n",
            "          TTCG  TTCT  TTGA  TTGC  TTGG  TTGT  TTTA  TTTC  TTTG  TTTT  \n",
            "Overhang                                                              \n",
            "TTTT         0     0     0     0     0     0     0     0     0     0  \n",
            "GTTT         0     0     0     0     0     0     0     0     0     0  \n",
            "CTTT         0     0     0     0     0     0     0     0     0     0  \n",
            "ATTT         0     0     0     0     0     0     0     0     0     0  \n",
            "TGTT         0     0     0     0     0     0     0     0     0     0  \n",
            "...        ...   ...   ...   ...   ...   ...   ...   ...   ...   ...  \n",
            "ACAA         0     0    10     2     7   479     0     0     0     0  \n",
            "TAAA         0     0     0     0     0     0   361     0    10     3  \n",
            "GAAA         0     0     0     2     0     0     5   715     1    19  \n",
            "CAAA         4     0     0     0     0     0     3     0   485     0  \n",
            "AAAA         0     0     0     0     0     0     4     3     1   635  \n",
            "\n",
            "[256 rows x 256 columns]\n",
            "635\n"
          ]
        }
      ],
      "source": [
        "# check if path to chart is valid\n",
        "path_name = '/content/overhang_fidelity.xlsx'\n",
        "while not os.path.isfile(path_name):\n",
        "    path_name = input(\"Whoops! No such file! Please enter the name of the file you'd like to use.\")\n",
        "# read the excel file into pandas dataframe\n",
        "df = pd.read_excel(path_name, sheet_name='S1 Table. BsaI-HFv2', engine='openpyxl')\n",
        "# set overhang as indices for indexing the chart by row + col names\n",
        "df.set_index(\"Overhang\", inplace = True)\n",
        "print (df)\n",
        "print(df.loc['AAAA']['TTTT'])"
      ]
    },
    {
      "cell_type": "markdown",
      "id": "ea0ccc62",
      "metadata": {
        "id": "ea0ccc62"
      },
      "source": [
        "# 3. Score Calculation"
      ]
    },
    {
      "cell_type": "code",
      "execution_count": null,
      "id": "80881430",
      "metadata": {
        "id": "80881430"
      },
      "outputs": [],
      "source": [
        "overhang_list = []"
      ]
    },
    {
      "cell_type": "code",
      "execution_count": null,
      "id": "c62a32ea",
      "metadata": {
        "id": "c62a32ea"
      },
      "outputs": [],
      "source": [
        "# Obtain the score for one cassette location\n",
        "# TODO: No overhangs used twice\n",
        "def obtain_score(start, end) -> int:\n",
        "    # obtain overhang sequences\n",
        "    head = target_gene[start-2][-1] + target_gene[start-1]\n",
        "    tail = target_gene[end+1] + target_gene[end+2][0]\n",
        "    # convert to biopython seq objects\n",
        "    head = Seq(head)\n",
        "    tail = Seq(tail)\n",
        "    # check for reactivity with existing overhangs\n",
        "    cross_reaction = 0\n",
        "    for overhang in overhang_list:\n",
        "      cross_reaction += df.loc[head][overhang] + df.loc[tail][overhang]\n",
        "    # record overhangs in notebook if it is not in overhang_list\n",
        "    repitition = 0\n",
        "    if head not in overhang_list and tail not in overhang_list:\n",
        "        overhang_list.append(head)\n",
        "        overhang_list.append(tail)\n",
        "    else:\n",
        "        repitition = 1\n",
        "    # get reverse compliment of overhang\n",
        "    head_comp = head.complement()\n",
        "    tail_comp = tail.complement()\n",
        "    # check for overhang reactivity summation\n",
        "    head_reactivity = df.loc[head][head_comp]\n",
        "    tail_reactivity = df.loc[tail][tail_comp]\n",
        "    pos_success = head_reactivity + tail_reactivity\n",
        "    # check how much is the oligo length varied from standard length\n",
        "    delta_len = end - start + 1 - 40\n",
        "    # check for palindrome\n",
        "    palindromicity = 0\n",
        "    if head == head[::-1]:\n",
        "        palindromicity += 1\n",
        "    if tail == tail[::-1]:\n",
        "        palindromicity += 1\n",
        "    # final score calculation\n",
        "    final_score = pos_success - palindromicity * 100 - delta_len ** 2 - repitition * 100\n",
        "    return final_score"
      ]
    },
    {
      "cell_type": "code",
      "execution_count": null,
      "id": "94854d52",
      "metadata": {
        "scrolled": true,
        "id": "94854d52"
      },
      "outputs": [],
      "source": [
        "# Initialization\n",
        "\n",
        "delta_score = float('inf')\n",
        "stop_criterion = 5\n",
        "#while delta_score > stop_criterion:\n",
        "    "
      ]
    }
  ],
  "metadata": {
    "kernelspec": {
      "display_name": "Python 3 (ipykernel)",
      "language": "python",
      "name": "python3"
    },
    "language_info": {
      "codemirror_mode": {
        "name": "ipython",
        "version": 3
      },
      "file_extension": ".py",
      "mimetype": "text/x-python",
      "name": "python",
      "nbconvert_exporter": "python",
      "pygments_lexer": "ipython3",
      "version": "3.8.13"
    },
    "colab": {
      "name": "Data-optimized Assembly Design for Oligonucleotides.ipynb",
      "provenance": [],
      "include_colab_link": true
    }
  },
  "nbformat": 4,
  "nbformat_minor": 5
}